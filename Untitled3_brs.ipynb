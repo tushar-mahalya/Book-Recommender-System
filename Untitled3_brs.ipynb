{
  "nbformat": 4,
  "nbformat_minor": 0,
  "metadata": {
    "colab": {
      "provenance": [],
      "mount_file_id": "10BcEMdYudtU9FaVEyEKxbWrq07cPNtda",
      "authorship_tag": "ABX9TyNGx+Cf5pfQIJrnVAWeEwyL",
      "include_colab_link": true
    },
    "kernelspec": {
      "name": "python3",
      "display_name": "Python 3"
    },
    "language_info": {
      "name": "python"
    }
  },
  "cells": [
    {
      "cell_type": "markdown",
      "metadata": {
        "id": "view-in-github",
        "colab_type": "text"
      },
      "source": [
        "<a href=\"https://colab.research.google.com/github/tushar-mahalya/Book-Recommender-System/blob/root/Untitled3_brs.ipynb\" target=\"_parent\"><img src=\"https://colab.research.google.com/assets/colab-badge.svg\" alt=\"Open In Colab\"/></a>"
      ]
    },
    {
      "cell_type": "markdown",
      "source": [
        "# **Content based Recommender System** "
      ],
      "metadata": {
        "id": "4lmnkh93OAo3"
      }
    },
    {
      "cell_type": "markdown",
      "source": [
        "### **Initializing Data**\n",
        "\n",
        "This CMU Book Summary Dataset contains plot summaries for 12,055 books extracted from Wikipedia, along with aligned metadata from Freebase, including book author, title, and genre.\n",
        "\n",
        "**[Source](https://www.kaggle.com/datasets/ymaricar/cmu-book-summary-dataset)**"
      ],
      "metadata": {
        "id": "ia_fFmH0OQRW"
      }
    },
    {
      "cell_type": "code",
      "execution_count": null,
      "metadata": {
        "colab": {
          "base_uri": "https://localhost:8080/"
        },
        "id": "1JjxzDO5qlN0",
        "outputId": "720001ce-d096-4ffc-ea2a-0f188b910908"
      },
      "outputs": [
        {
          "output_type": "stream",
          "name": "stdout",
          "text": [
            "Looking in indexes: https://pypi.org/simple, https://us-python.pkg.dev/colab-wheels/public/simple/\n",
            "Requirement already satisfied: kaggle in /usr/local/lib/python3.8/dist-packages (1.5.12)\n",
            "Requirement already satisfied: requests in /usr/local/lib/python3.8/dist-packages (from kaggle) (2.23.0)\n",
            "Requirement already satisfied: python-dateutil in /usr/local/lib/python3.8/dist-packages (from kaggle) (2.8.2)\n",
            "Requirement already satisfied: urllib3 in /usr/local/lib/python3.8/dist-packages (from kaggle) (1.24.3)\n",
            "Requirement already satisfied: python-slugify in /usr/local/lib/python3.8/dist-packages (from kaggle) (7.0.0)\n",
            "Requirement already satisfied: tqdm in /usr/local/lib/python3.8/dist-packages (from kaggle) (4.64.1)\n",
            "Requirement already satisfied: certifi in /usr/local/lib/python3.8/dist-packages (from kaggle) (2022.12.7)\n",
            "Requirement already satisfied: six>=1.10 in /usr/local/lib/python3.8/dist-packages (from kaggle) (1.15.0)\n",
            "Requirement already satisfied: text-unidecode>=1.3 in /usr/local/lib/python3.8/dist-packages (from python-slugify->kaggle) (1.3)\n",
            "Requirement already satisfied: idna<3,>=2.5 in /usr/local/lib/python3.8/dist-packages (from requests->kaggle) (2.10)\n",
            "Requirement already satisfied: chardet<4,>=3.0.2 in /usr/local/lib/python3.8/dist-packages (from requests->kaggle) (3.0.4)\n"
          ]
        }
      ],
      "source": [
        "! pip install kaggle"
      ]
    },
    {
      "cell_type": "code",
      "source": [
        "! kaggle d download ymaricar/cmu-book-summary-dataset"
      ],
      "metadata": {
        "colab": {
          "base_uri": "https://localhost:8080/"
        },
        "id": "mjQxiQhc9P7V",
        "outputId": "e00c4add-e902-4a52-ae9d-46f1b8b53ef5"
      },
      "execution_count": null,
      "outputs": [
        {
          "output_type": "stream",
          "name": "stdout",
          "text": [
            "Warning: Your Kaggle API key is readable by other users on this system! To fix this, you can run 'chmod 600 /root/.kaggle/kaggle.json'\n",
            "Downloading cmu-book-summary-dataset.zip to /content\n",
            " 92% 15.0M/16.2M [00:01<00:00, 18.7MB/s]\n",
            "100% 16.2M/16.2M [00:01<00:00, 14.9MB/s]\n"
          ]
        }
      ]
    },
    {
      "cell_type": "code",
      "source": [
        "! unzip /content/cmu-book-summary-dataset.zip"
      ],
      "metadata": {
        "colab": {
          "base_uri": "https://localhost:8080/"
        },
        "id": "YeKYZz539P3b",
        "outputId": "83a51d51-4517-41a2-e49b-a8cf76005de7"
      },
      "execution_count": null,
      "outputs": [
        {
          "output_type": "stream",
          "name": "stdout",
          "text": [
            "Archive:  /content/cmu-book-summary-dataset.zip\n",
            "  inflating: booksummaries.txt       \n"
          ]
        }
      ]
    },
    {
      "cell_type": "code",
      "source": [
        "# Importing important libraries\n",
        "\n",
        "import re\n",
        "import csv\n",
        "import json\n",
        "import nltk\n",
        "import requests\n",
        "import numpy as np\n",
        "import pandas as pd\n",
        "from tqdm import tqdm\n",
        "from nltk.stem.porter import PorterStemmer\n",
        "from sklearn.metrics.pairwise import cosine_similarity\n",
        "from sklearn.feature_extraction.text import CountVectorizer"
      ],
      "metadata": {
        "id": "NqOZCqydffFu"
      },
      "execution_count": null,
      "outputs": []
    },
    {
      "cell_type": "markdown",
      "source": [
        "### **Data Prepration**"
      ],
      "metadata": {
        "id": "KIgJ9xEgP1NT"
      }
    },
    {
      "cell_type": "code",
      "source": [
        "data = []\n",
        "\n",
        "with open(\"/content/booksummaries.txt\", 'r') as f:\n",
        "    reader = csv.reader(f, dialect='excel-tab')\n",
        "    for row in tqdm(reader):\n",
        "        data.append(row)"
      ],
      "metadata": {
        "colab": {
          "base_uri": "https://localhost:8080/"
        },
        "id": "_44Ev3wdfEJO",
        "outputId": "475a092c-b43c-41db-b458-74973bb0e6bb"
      },
      "execution_count": null,
      "outputs": [
        {
          "output_type": "stream",
          "name": "stderr",
          "text": [
            "16559it [00:00, 24081.95it/s]\n"
          ]
        }
      ]
    },
    {
      "cell_type": "code",
      "source": [
        "book_id = []\n",
        "book_name = []\n",
        "author = []\n",
        "summary = []\n",
        "genre = []\n",
        "\n",
        "for i in tqdm(data):\n",
        "    book_id.append(i[0])\n",
        "    book_name.append(i[2])\n",
        "    author.append(i[3])\n",
        "    genre.append(i[5])\n",
        "    summary.append(i[6])\n",
        "\n",
        "books = pd.DataFrame({'book_id': book_id, 'book_name': book_name, 'author':author,\n",
        "                       'genre': genre, 'summary': summary})"
      ],
      "metadata": {
        "colab": {
          "base_uri": "https://localhost:8080/"
        },
        "id": "m7aBOJDbfzxS",
        "outputId": "877ffea6-897c-42e2-ac3a-feb9a26747ad"
      },
      "execution_count": null,
      "outputs": [
        {
          "output_type": "stream",
          "name": "stderr",
          "text": [
            "100%|██████████| 16559/16559 [00:00<00:00, 790186.93it/s]\n"
          ]
        }
      ]
    },
    {
      "cell_type": "code",
      "source": [
        "books.drop(books[books['genre']==''].index, inplace=True)\n",
        "books.drop(books[books['author']==''].index, inplace=True)"
      ],
      "metadata": {
        "id": "VgKg6t18f5Cy"
      },
      "execution_count": null,
      "outputs": []
    },
    {
      "cell_type": "code",
      "source": [
        "genres = []\n",
        "for i in books['genre']:\n",
        "    genres.append(list(json.loads(i).values()))\n",
        "books['genre'] = genres"
      ],
      "metadata": {
        "id": "GoaagXGYhNLf"
      },
      "execution_count": null,
      "outputs": []
    },
    {
      "cell_type": "code",
      "source": [
        "books.head()"
      ],
      "metadata": {
        "colab": {
          "base_uri": "https://localhost:8080/",
          "height": 337
        },
        "id": "362W3PSuha6U",
        "outputId": "103ae26f-a15c-4697-f8d7-7e724082f6b4"
      },
      "execution_count": null,
      "outputs": [
        {
          "output_type": "execute_result",
          "data": {
            "text/plain": [
              "  book_id                       book_name                author  \\\n",
              "0     620                     Animal Farm         George Orwell   \n",
              "1     843              A Clockwork Orange       Anthony Burgess   \n",
              "2     986                      The Plague          Albert Camus   \n",
              "4    2080            A Fire Upon the Deep          Vernor Vinge   \n",
              "5    2152  All Quiet on the Western Front  Erich Maria Remarque   \n",
              "\n",
              "                                               genre  \\\n",
              "0  [Roman à clef, Satire, Children's literature, ...   \n",
              "1  [Science Fiction, Novella, Speculative fiction...   \n",
              "2  [Existentialism, Fiction, Absurdist fiction, N...   \n",
              "4  [Hard science fiction, Science Fiction, Specul...   \n",
              "5                          [War novel, Roman à clef]   \n",
              "\n",
              "                                             summary  \n",
              "0   Old Major, the old boar on the Manor Farm, ca...  \n",
              "1   Alex, a teenager living in near-future Englan...  \n",
              "2   The text of The Plague is divided into five p...  \n",
              "4   The novel posits that space around the Milky ...  \n",
              "5   The book tells the story of Paul Bäumer, a Ge...  "
            ],
            "text/html": [
              "\n",
              "  <div id=\"df-f254d7dd-cba5-46cc-8570-830842e1e36e\">\n",
              "    <div class=\"colab-df-container\">\n",
              "      <div>\n",
              "<style scoped>\n",
              "    .dataframe tbody tr th:only-of-type {\n",
              "        vertical-align: middle;\n",
              "    }\n",
              "\n",
              "    .dataframe tbody tr th {\n",
              "        vertical-align: top;\n",
              "    }\n",
              "\n",
              "    .dataframe thead th {\n",
              "        text-align: right;\n",
              "    }\n",
              "</style>\n",
              "<table border=\"1\" class=\"dataframe\">\n",
              "  <thead>\n",
              "    <tr style=\"text-align: right;\">\n",
              "      <th></th>\n",
              "      <th>book_id</th>\n",
              "      <th>book_name</th>\n",
              "      <th>author</th>\n",
              "      <th>genre</th>\n",
              "      <th>summary</th>\n",
              "    </tr>\n",
              "  </thead>\n",
              "  <tbody>\n",
              "    <tr>\n",
              "      <th>0</th>\n",
              "      <td>620</td>\n",
              "      <td>Animal Farm</td>\n",
              "      <td>George Orwell</td>\n",
              "      <td>[Roman à clef, Satire, Children's literature, ...</td>\n",
              "      <td>Old Major, the old boar on the Manor Farm, ca...</td>\n",
              "    </tr>\n",
              "    <tr>\n",
              "      <th>1</th>\n",
              "      <td>843</td>\n",
              "      <td>A Clockwork Orange</td>\n",
              "      <td>Anthony Burgess</td>\n",
              "      <td>[Science Fiction, Novella, Speculative fiction...</td>\n",
              "      <td>Alex, a teenager living in near-future Englan...</td>\n",
              "    </tr>\n",
              "    <tr>\n",
              "      <th>2</th>\n",
              "      <td>986</td>\n",
              "      <td>The Plague</td>\n",
              "      <td>Albert Camus</td>\n",
              "      <td>[Existentialism, Fiction, Absurdist fiction, N...</td>\n",
              "      <td>The text of The Plague is divided into five p...</td>\n",
              "    </tr>\n",
              "    <tr>\n",
              "      <th>4</th>\n",
              "      <td>2080</td>\n",
              "      <td>A Fire Upon the Deep</td>\n",
              "      <td>Vernor Vinge</td>\n",
              "      <td>[Hard science fiction, Science Fiction, Specul...</td>\n",
              "      <td>The novel posits that space around the Milky ...</td>\n",
              "    </tr>\n",
              "    <tr>\n",
              "      <th>5</th>\n",
              "      <td>2152</td>\n",
              "      <td>All Quiet on the Western Front</td>\n",
              "      <td>Erich Maria Remarque</td>\n",
              "      <td>[War novel, Roman à clef]</td>\n",
              "      <td>The book tells the story of Paul Bäumer, a Ge...</td>\n",
              "    </tr>\n",
              "  </tbody>\n",
              "</table>\n",
              "</div>\n",
              "      <button class=\"colab-df-convert\" onclick=\"convertToInteractive('df-f254d7dd-cba5-46cc-8570-830842e1e36e')\"\n",
              "              title=\"Convert this dataframe to an interactive table.\"\n",
              "              style=\"display:none;\">\n",
              "        \n",
              "  <svg xmlns=\"http://www.w3.org/2000/svg\" height=\"24px\"viewBox=\"0 0 24 24\"\n",
              "       width=\"24px\">\n",
              "    <path d=\"M0 0h24v24H0V0z\" fill=\"none\"/>\n",
              "    <path d=\"M18.56 5.44l.94 2.06.94-2.06 2.06-.94-2.06-.94-.94-2.06-.94 2.06-2.06.94zm-11 1L8.5 8.5l.94-2.06 2.06-.94-2.06-.94L8.5 2.5l-.94 2.06-2.06.94zm10 10l.94 2.06.94-2.06 2.06-.94-2.06-.94-.94-2.06-.94 2.06-2.06.94z\"/><path d=\"M17.41 7.96l-1.37-1.37c-.4-.4-.92-.59-1.43-.59-.52 0-1.04.2-1.43.59L10.3 9.45l-7.72 7.72c-.78.78-.78 2.05 0 2.83L4 21.41c.39.39.9.59 1.41.59.51 0 1.02-.2 1.41-.59l7.78-7.78 2.81-2.81c.8-.78.8-2.07 0-2.86zM5.41 20L4 18.59l7.72-7.72 1.47 1.35L5.41 20z\"/>\n",
              "  </svg>\n",
              "      </button>\n",
              "      \n",
              "  <style>\n",
              "    .colab-df-container {\n",
              "      display:flex;\n",
              "      flex-wrap:wrap;\n",
              "      gap: 12px;\n",
              "    }\n",
              "\n",
              "    .colab-df-convert {\n",
              "      background-color: #E8F0FE;\n",
              "      border: none;\n",
              "      border-radius: 50%;\n",
              "      cursor: pointer;\n",
              "      display: none;\n",
              "      fill: #1967D2;\n",
              "      height: 32px;\n",
              "      padding: 0 0 0 0;\n",
              "      width: 32px;\n",
              "    }\n",
              "\n",
              "    .colab-df-convert:hover {\n",
              "      background-color: #E2EBFA;\n",
              "      box-shadow: 0px 1px 2px rgba(60, 64, 67, 0.3), 0px 1px 3px 1px rgba(60, 64, 67, 0.15);\n",
              "      fill: #174EA6;\n",
              "    }\n",
              "\n",
              "    [theme=dark] .colab-df-convert {\n",
              "      background-color: #3B4455;\n",
              "      fill: #D2E3FC;\n",
              "    }\n",
              "\n",
              "    [theme=dark] .colab-df-convert:hover {\n",
              "      background-color: #434B5C;\n",
              "      box-shadow: 0px 1px 3px 1px rgba(0, 0, 0, 0.15);\n",
              "      filter: drop-shadow(0px 1px 2px rgba(0, 0, 0, 0.3));\n",
              "      fill: #FFFFFF;\n",
              "    }\n",
              "  </style>\n",
              "\n",
              "      <script>\n",
              "        const buttonEl =\n",
              "          document.querySelector('#df-f254d7dd-cba5-46cc-8570-830842e1e36e button.colab-df-convert');\n",
              "        buttonEl.style.display =\n",
              "          google.colab.kernel.accessAllowed ? 'block' : 'none';\n",
              "\n",
              "        async function convertToInteractive(key) {\n",
              "          const element = document.querySelector('#df-f254d7dd-cba5-46cc-8570-830842e1e36e');\n",
              "          const dataTable =\n",
              "            await google.colab.kernel.invokeFunction('convertToInteractive',\n",
              "                                                     [key], {});\n",
              "          if (!dataTable) return;\n",
              "\n",
              "          const docLinkHtml = 'Like what you see? Visit the ' +\n",
              "            '<a target=\"_blank\" href=https://colab.research.google.com/notebooks/data_table.ipynb>data table notebook</a>'\n",
              "            + ' to learn more about interactive tables.';\n",
              "          element.innerHTML = '';\n",
              "          dataTable['output_type'] = 'display_data';\n",
              "          await google.colab.output.renderOutput(dataTable, element);\n",
              "          const docLink = document.createElement('div');\n",
              "          docLink.innerHTML = docLinkHtml;\n",
              "          element.appendChild(docLink);\n",
              "        }\n",
              "      </script>\n",
              "    </div>\n",
              "  </div>\n",
              "  "
            ]
          },
          "metadata": {},
          "execution_count": 15
        }
      ]
    },
    {
      "cell_type": "code",
      "source": [
        "raw_books_df = books.copy()"
      ],
      "metadata": {
        "id": "6OCItaCxW2Is"
      },
      "execution_count": null,
      "outputs": []
    },
    {
      "cell_type": "code",
      "source": [
        "books['genre'] = books['genre'].apply(lambda x:[i.replace(' ','') for i in x])\n",
        "books['author'] = books['author'].apply(lambda x:x.replace(' ',''))"
      ],
      "metadata": {
        "id": "QZkAPitYpzy8"
      },
      "execution_count": null,
      "outputs": []
    },
    {
      "cell_type": "code",
      "source": [
        "def clean_summary(text):\n",
        "    text = re.sub(\"\\'\", \"\", text)\n",
        "    text = re.sub(\"[^a-zA-Z]\",\" \",text)\n",
        "    text = ' '.join(text.split())\n",
        "    text = text.lower()\n",
        "    return text"
      ],
      "metadata": {
        "id": "9TaQfSvSsfHx"
      },
      "execution_count": null,
      "outputs": []
    },
    {
      "cell_type": "code",
      "source": [
        "books['summary'] = books['summary'].apply(lambda x: clean_summary(x))"
      ],
      "metadata": {
        "id": "udwenQl0vIqR"
      },
      "execution_count": null,
      "outputs": []
    },
    {
      "cell_type": "code",
      "source": [
        "books['summary'] = books['summary'].apply(lambda x: x.split())\n",
        "books['author'] = books['author'].apply(lambda x: [x])"
      ],
      "metadata": {
        "id": "R1_s6xpJv2He"
      },
      "execution_count": null,
      "outputs": []
    },
    {
      "cell_type": "code",
      "source": [
        "books['tags'] = books['summary'] + books['genre'] + books['author']\n",
        "books['tags'] = books['tags'].apply(lambda x : \" \".join(x))"
      ],
      "metadata": {
        "id": "_uFrLH0CxvOp"
      },
      "execution_count": null,
      "outputs": []
    },
    {
      "cell_type": "code",
      "source": [
        "final_books = books[['book_name', 'tags']]"
      ],
      "metadata": {
        "id": "xqZF6ZJIzM-0"
      },
      "execution_count": null,
      "outputs": []
    },
    {
      "cell_type": "code",
      "source": [
        "final_books.reset_index(inplace = True, drop = True)\n",
        "raw_books_df.reset_index(drop = True, inplace = True)"
      ],
      "metadata": {
        "id": "2h3dtl2UxvJ5"
      },
      "execution_count": null,
      "outputs": []
    },
    {
      "cell_type": "code",
      "source": [
        "final_books.head()"
      ],
      "metadata": {
        "colab": {
          "base_uri": "https://localhost:8080/",
          "height": 206
        },
        "id": "k7nwUAPIQhV2",
        "outputId": "8ae2fe3c-3a39-46e4-87b8-01533e0d176a"
      },
      "execution_count": null,
      "outputs": [
        {
          "output_type": "execute_result",
          "data": {
            "text/plain": [
              "                        book_name  \\\n",
              "0                     Animal Farm   \n",
              "1              A Clockwork Orange   \n",
              "2                      The Plague   \n",
              "3            A Fire Upon the Deep   \n",
              "4  All Quiet on the Western Front   \n",
              "\n",
              "                                                tags  \n",
              "0  old major the old boar on the manor farm calls...  \n",
              "1  alex a teenager living in near future england ...  \n",
              "2  the text of the plague is divided into five pa...  \n",
              "3  the novel posits that space around the milky w...  \n",
              "4  the book tells the story of paul b umer a germ...  "
            ],
            "text/html": [
              "\n",
              "  <div id=\"df-a5c69283-a80c-4faa-8045-f6ca4bc8aa86\">\n",
              "    <div class=\"colab-df-container\">\n",
              "      <div>\n",
              "<style scoped>\n",
              "    .dataframe tbody tr th:only-of-type {\n",
              "        vertical-align: middle;\n",
              "    }\n",
              "\n",
              "    .dataframe tbody tr th {\n",
              "        vertical-align: top;\n",
              "    }\n",
              "\n",
              "    .dataframe thead th {\n",
              "        text-align: right;\n",
              "    }\n",
              "</style>\n",
              "<table border=\"1\" class=\"dataframe\">\n",
              "  <thead>\n",
              "    <tr style=\"text-align: right;\">\n",
              "      <th></th>\n",
              "      <th>book_name</th>\n",
              "      <th>tags</th>\n",
              "    </tr>\n",
              "  </thead>\n",
              "  <tbody>\n",
              "    <tr>\n",
              "      <th>0</th>\n",
              "      <td>Animal Farm</td>\n",
              "      <td>old major the old boar on the manor farm calls...</td>\n",
              "    </tr>\n",
              "    <tr>\n",
              "      <th>1</th>\n",
              "      <td>A Clockwork Orange</td>\n",
              "      <td>alex a teenager living in near future england ...</td>\n",
              "    </tr>\n",
              "    <tr>\n",
              "      <th>2</th>\n",
              "      <td>The Plague</td>\n",
              "      <td>the text of the plague is divided into five pa...</td>\n",
              "    </tr>\n",
              "    <tr>\n",
              "      <th>3</th>\n",
              "      <td>A Fire Upon the Deep</td>\n",
              "      <td>the novel posits that space around the milky w...</td>\n",
              "    </tr>\n",
              "    <tr>\n",
              "      <th>4</th>\n",
              "      <td>All Quiet on the Western Front</td>\n",
              "      <td>the book tells the story of paul b umer a germ...</td>\n",
              "    </tr>\n",
              "  </tbody>\n",
              "</table>\n",
              "</div>\n",
              "      <button class=\"colab-df-convert\" onclick=\"convertToInteractive('df-a5c69283-a80c-4faa-8045-f6ca4bc8aa86')\"\n",
              "              title=\"Convert this dataframe to an interactive table.\"\n",
              "              style=\"display:none;\">\n",
              "        \n",
              "  <svg xmlns=\"http://www.w3.org/2000/svg\" height=\"24px\"viewBox=\"0 0 24 24\"\n",
              "       width=\"24px\">\n",
              "    <path d=\"M0 0h24v24H0V0z\" fill=\"none\"/>\n",
              "    <path d=\"M18.56 5.44l.94 2.06.94-2.06 2.06-.94-2.06-.94-.94-2.06-.94 2.06-2.06.94zm-11 1L8.5 8.5l.94-2.06 2.06-.94-2.06-.94L8.5 2.5l-.94 2.06-2.06.94zm10 10l.94 2.06.94-2.06 2.06-.94-2.06-.94-.94-2.06-.94 2.06-2.06.94z\"/><path d=\"M17.41 7.96l-1.37-1.37c-.4-.4-.92-.59-1.43-.59-.52 0-1.04.2-1.43.59L10.3 9.45l-7.72 7.72c-.78.78-.78 2.05 0 2.83L4 21.41c.39.39.9.59 1.41.59.51 0 1.02-.2 1.41-.59l7.78-7.78 2.81-2.81c.8-.78.8-2.07 0-2.86zM5.41 20L4 18.59l7.72-7.72 1.47 1.35L5.41 20z\"/>\n",
              "  </svg>\n",
              "      </button>\n",
              "      \n",
              "  <style>\n",
              "    .colab-df-container {\n",
              "      display:flex;\n",
              "      flex-wrap:wrap;\n",
              "      gap: 12px;\n",
              "    }\n",
              "\n",
              "    .colab-df-convert {\n",
              "      background-color: #E8F0FE;\n",
              "      border: none;\n",
              "      border-radius: 50%;\n",
              "      cursor: pointer;\n",
              "      display: none;\n",
              "      fill: #1967D2;\n",
              "      height: 32px;\n",
              "      padding: 0 0 0 0;\n",
              "      width: 32px;\n",
              "    }\n",
              "\n",
              "    .colab-df-convert:hover {\n",
              "      background-color: #E2EBFA;\n",
              "      box-shadow: 0px 1px 2px rgba(60, 64, 67, 0.3), 0px 1px 3px 1px rgba(60, 64, 67, 0.15);\n",
              "      fill: #174EA6;\n",
              "    }\n",
              "\n",
              "    [theme=dark] .colab-df-convert {\n",
              "      background-color: #3B4455;\n",
              "      fill: #D2E3FC;\n",
              "    }\n",
              "\n",
              "    [theme=dark] .colab-df-convert:hover {\n",
              "      background-color: #434B5C;\n",
              "      box-shadow: 0px 1px 3px 1px rgba(0, 0, 0, 0.15);\n",
              "      filter: drop-shadow(0px 1px 2px rgba(0, 0, 0, 0.3));\n",
              "      fill: #FFFFFF;\n",
              "    }\n",
              "  </style>\n",
              "\n",
              "      <script>\n",
              "        const buttonEl =\n",
              "          document.querySelector('#df-a5c69283-a80c-4faa-8045-f6ca4bc8aa86 button.colab-df-convert');\n",
              "        buttonEl.style.display =\n",
              "          google.colab.kernel.accessAllowed ? 'block' : 'none';\n",
              "\n",
              "        async function convertToInteractive(key) {\n",
              "          const element = document.querySelector('#df-a5c69283-a80c-4faa-8045-f6ca4bc8aa86');\n",
              "          const dataTable =\n",
              "            await google.colab.kernel.invokeFunction('convertToInteractive',\n",
              "                                                     [key], {});\n",
              "          if (!dataTable) return;\n",
              "\n",
              "          const docLinkHtml = 'Like what you see? Visit the ' +\n",
              "            '<a target=\"_blank\" href=https://colab.research.google.com/notebooks/data_table.ipynb>data table notebook</a>'\n",
              "            + ' to learn more about interactive tables.';\n",
              "          element.innerHTML = '';\n",
              "          dataTable['output_type'] = 'display_data';\n",
              "          await google.colab.output.renderOutput(dataTable, element);\n",
              "          const docLink = document.createElement('div');\n",
              "          docLink.innerHTML = docLinkHtml;\n",
              "          element.appendChild(docLink);\n",
              "        }\n",
              "      </script>\n",
              "    </div>\n",
              "  </div>\n",
              "  "
            ]
          },
          "metadata": {},
          "execution_count": 116
        }
      ]
    },
    {
      "cell_type": "code",
      "source": [
        "ps = PorterStemmer()"
      ],
      "metadata": {
        "id": "9Rl5nBtRad8g"
      },
      "execution_count": null,
      "outputs": []
    },
    {
      "cell_type": "code",
      "source": [
        "def stemming(text):\n",
        "  lst = []\n",
        "  for i in text.split():\n",
        "    lst.append(ps.stem(i))\n",
        "  \n",
        "  return \" \".join(lst)"
      ],
      "metadata": {
        "id": "rVBVPUNo4F9M"
      },
      "execution_count": null,
      "outputs": []
    },
    {
      "cell_type": "code",
      "source": [
        "final_books['tags'] = final_books['tags'].apply(stemming)"
      ],
      "metadata": {
        "colab": {
          "base_uri": "https://localhost:8080/"
        },
        "id": "5WVZYq4w4uyY",
        "outputId": "cadd1601-9f3f-4929-d11d-6a16573935f9"
      },
      "execution_count": null,
      "outputs": [
        {
          "output_type": "stream",
          "name": "stderr",
          "text": [
            "<ipython-input-28-c6010f6bbce1>:1: SettingWithCopyWarning: \n",
            "A value is trying to be set on a copy of a slice from a DataFrame.\n",
            "Try using .loc[row_indexer,col_indexer] = value instead\n",
            "\n",
            "See the caveats in the documentation: https://pandas.pydata.org/pandas-docs/stable/user_guide/indexing.html#returning-a-view-versus-a-copy\n",
            "  final_books['tags'] = final_books['tags'].apply(stemming)\n"
          ]
        }
      ]
    },
    {
      "cell_type": "code",
      "source": [
        "cv = CountVectorizer(max_features=5000, stop_words = 'english')\n",
        "\n",
        "vectors = cv.fit_transform(final_books['tags'])\n",
        "similarity = cosine_similarity(vectors)"
      ],
      "metadata": {
        "id": "BJwDToaZ2Ooa"
      },
      "execution_count": null,
      "outputs": []
    },
    {
      "cell_type": "code",
      "source": [
        "def recommend(movie):\n",
        "  book_index = final_books[final_books['book_name'] == movie].index[0]\n",
        "  distances = similarity[book_index]\n",
        "  book_lst = sorted(list(enumerate(distances)), reverse = True, key = lambda x:x[1])[1:11]\n",
        "  for i in book_lst:\n",
        "    print(final_books.iloc[i[0]].book_name)"
      ],
      "metadata": {
        "id": "XWjTfUl560Pn"
      },
      "execution_count": null,
      "outputs": []
    },
    {
      "cell_type": "code",
      "source": [
        "recommend('Blade Runner 3: Replicant Night')"
      ],
      "metadata": {
        "colab": {
          "base_uri": "https://localhost:8080/"
        },
        "id": "2thiB9XK79mE",
        "outputId": "3e72723f-ea7c-4f18-c848-b504fb32f90f"
      },
      "execution_count": null,
      "outputs": [
        {
          "output_type": "stream",
          "name": "stdout",
          "text": [
            "Blade Runner 4: Eye and Talon\n",
            "The Fifth Man\n",
            "Street of Shadows\n",
            "Redgauntlet\n",
            "The Rebels\n",
            "Sufferings in Africa: The Incredible True Story of a Shipwreck, Enslavement, and Survival on the Sahara\n",
            "The Hunters\n",
            "Deathstalker\n",
            "The Abyss\n",
            "Shooting Script\n"
          ]
        }
      ]
    },
    {
      "cell_type": "code",
      "source": [
        "def string_formater(title,author):\n",
        "  title = title.split()\n",
        "  author = author.split()\n",
        "  if len(title) > 3:\n",
        "    string = f'{title[0]}+{title[1]}+{title[2]}+{title[3]}' + '+inauthor:' + author[0]\n",
        "  elif len(title) > 2:\n",
        "    string = f'{title[0]}+{title[1]}+{title[2]}' + '+inauthor:' + author[0]\n",
        "  elif len(title) > 1:\n",
        "    string = f'{title[0]}+{title[1]}' + '+inauthor:' + author[0]\n",
        "  else:\n",
        "    string = title[0] + '+inauthor:' + author[0]\n",
        "  return string\n"
      ],
      "metadata": {
        "id": "1Q1U1Y80S5uW"
      },
      "execution_count": null,
      "outputs": []
    },
    {
      "cell_type": "code",
      "source": [
        "def image_extractor(df):\n",
        "  img_lst = []\n",
        "  for title,author in zip(df['book_name'],df['author']):\n",
        "    try:\n",
        "      url = \"https://www.googleapis.com/books/v1/volumes?q=\" + string_formater(title,author)\n",
        "      data = requests.get(url).json()\n",
        "      img = data['items'][0]['volumeInfo']['imageLinks']['thumbnail']\n",
        "    except KeyError:\n",
        "      img = 'https://drupal.nypl.org/sites-drupal/default/files/blogs/sJ3CT4V.gif'\n",
        "    img_lst.append(img)\n",
        "  return img_lst\n"
      ],
      "metadata": {
        "id": "_TXqXRdXY2i0"
      },
      "execution_count": null,
      "outputs": []
    },
    {
      "cell_type": "code",
      "source": [
        "abc = image_extractor(raw_books_df.iloc[:11,:])"
      ],
      "metadata": {
        "colab": {
          "base_uri": "https://localhost:8080/"
        },
        "id": "_W-ciqHB2UNo",
        "outputId": "40f11db5-730e-4a96-f2a5-f7d1ad122687"
      },
      "execution_count": null,
      "outputs": [
        {
          "output_type": "stream",
          "name": "stdout",
          "text": [
            "http://books.google.com/books/content?id=Cxi8swEACAAJ&printsec=frontcover&img=1&zoom=1&source=gbs_api\n",
            "http://books.google.com/books/content?id=fVnqpwphxeAC&printsec=frontcover&img=1&zoom=1&edge=curl&source=gbs_api\n",
            "http://books.google.com/books/content?id=7_Blv5sqceoC&printsec=frontcover&img=1&zoom=1&source=gbs_api\n",
            "http://books.google.com/books/content?id=fCCWWgZ7d6UC&printsec=frontcover&img=1&zoom=1&edge=curl&source=gbs_api\n",
            "http://books.google.com/books/content?id=iPopAQAAMAAJ&printsec=frontcover&img=1&zoom=1&source=gbs_api\n",
            "http://books.google.com/books/content?id=XOjkBwAAQBAJ&printsec=frontcover&img=1&zoom=1&edge=curl&source=gbs_api\n",
            "http://books.google.com/books/content?id=VXR8EAAAQBAJ&printsec=frontcover&img=1&zoom=1&edge=curl&source=gbs_api\n",
            "http://books.google.com/books/content?id=fcUZAgAAQBAJ&printsec=frontcover&img=1&zoom=1&edge=curl&source=gbs_api\n",
            "http://books.google.com/books/content?id=MVzOsSFbo6kC&printsec=frontcover&img=1&zoom=1&edge=curl&source=gbs_api\n"
          ]
        }
      ]
    },
    {
      "cell_type": "code",
      "source": [
        "abc"
      ],
      "metadata": {
        "colab": {
          "base_uri": "https://localhost:8080/"
        },
        "id": "NncTaxnE3JCl",
        "outputId": "a0992fd9-eb03-48be-fc93-4f10cc859b34"
      },
      "execution_count": null,
      "outputs": [
        {
          "output_type": "execute_result",
          "data": {
            "text/plain": [
              "['http://books.google.com/books/content?id=Cxi8swEACAAJ&printsec=frontcover&img=1&zoom=1&source=gbs_api',\n",
              " 'http://books.google.com/books/content?id=fVnqpwphxeAC&printsec=frontcover&img=1&zoom=1&edge=curl&source=gbs_api',\n",
              " 'http://books.google.com/books/content?id=7_Blv5sqceoC&printsec=frontcover&img=1&zoom=1&source=gbs_api',\n",
              " 'http://books.google.com/books/content?id=fCCWWgZ7d6UC&printsec=frontcover&img=1&zoom=1&edge=curl&source=gbs_api',\n",
              " 'http://books.google.com/books/content?id=iPopAQAAMAAJ&printsec=frontcover&img=1&zoom=1&source=gbs_api',\n",
              " 'http://books.google.com/books/content?id=XOjkBwAAQBAJ&printsec=frontcover&img=1&zoom=1&edge=curl&source=gbs_api',\n",
              " 'http://books.google.com/books/content?id=VXR8EAAAQBAJ&printsec=frontcover&img=1&zoom=1&edge=curl&source=gbs_api',\n",
              " 'https://drupal.nypl.org/sites-drupal/default/files/blogs/sJ3CT4V.gif',\n",
              " 'http://books.google.com/books/content?id=fcUZAgAAQBAJ&printsec=frontcover&img=1&zoom=1&edge=curl&source=gbs_api',\n",
              " 'http://books.google.com/books/content?id=MVzOsSFbo6kC&printsec=frontcover&img=1&zoom=1&edge=curl&source=gbs_api',\n",
              " 'https://drupal.nypl.org/sites-drupal/default/files/blogs/sJ3CT4V.gif']"
            ]
          },
          "metadata": {},
          "execution_count": 43
        }
      ]
    },
    {
      "cell_type": "code",
      "source": [],
      "metadata": {
        "id": "mRn1Weo04z4N"
      },
      "execution_count": null,
      "outputs": []
    }
  ]
}